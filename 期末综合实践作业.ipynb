{
 "cells": [
  {
   "cell_type": "code",
   "execution_count": 38,
   "metadata": {},
   "outputs": [
    {
     "ename": "ModuleNotFoundError",
     "evalue": "No module named 'matplotlib'",
     "output_type": "error",
     "traceback": [
      "\u001b[1;31m---------------------------------------------------------------------------\u001b[0m",
      "\u001b[1;31mModuleNotFoundError\u001b[0m                       Traceback (most recent call last)",
      "\u001b[1;32mc:\\Users\\lenovo\\Desktop\\home\\期末综合实践作业.ipynb 单元格 1\u001b[0m line \u001b[0;36m3\n\u001b[0;32m      <a href='vscode-notebook-cell:/c%3A/Users/lenovo/Desktop/home/%E6%9C%9F%E6%9C%AB%E7%BB%BC%E5%90%88%E5%AE%9E%E8%B7%B5%E4%BD%9C%E4%B8%9A.ipynb#W0sZmlsZQ%3D%3D?line=0'>1</a>\u001b[0m \u001b[39mimport\u001b[39;00m \u001b[39mpandas\u001b[39;00m \u001b[39mas\u001b[39;00m \u001b[39mpd\u001b[39;00m  \n\u001b[0;32m      <a href='vscode-notebook-cell:/c%3A/Users/lenovo/Desktop/home/%E6%9C%9F%E6%9C%AB%E7%BB%BC%E5%90%88%E5%AE%9E%E8%B7%B5%E4%BD%9C%E4%B8%9A.ipynb#W0sZmlsZQ%3D%3D?line=1'>2</a>\u001b[0m \u001b[39mimport\u001b[39;00m \u001b[39mnumpy\u001b[39;00m \u001b[39mas\u001b[39;00m \u001b[39mnp\u001b[39;00m  \n\u001b[1;32m----> <a href='vscode-notebook-cell:/c%3A/Users/lenovo/Desktop/home/%E6%9C%9F%E6%9C%AB%E7%BB%BC%E5%90%88%E5%AE%9E%E8%B7%B5%E4%BD%9C%E4%B8%9A.ipynb#W0sZmlsZQ%3D%3D?line=2'>3</a>\u001b[0m \u001b[39mimport\u001b[39;00m \u001b[39mmatplotlib\u001b[39;00m\u001b[39m.\u001b[39;00m\u001b[39mpyplot\u001b[39;00m \u001b[39mas\u001b[39;00m \u001b[39mplt\u001b[39;00m  \n\u001b[0;32m      <a href='vscode-notebook-cell:/c%3A/Users/lenovo/Desktop/home/%E6%9C%9F%E6%9C%AB%E7%BB%BC%E5%90%88%E5%AE%9E%E8%B7%B5%E4%BD%9C%E4%B8%9A.ipynb#W0sZmlsZQ%3D%3D?line=3'>4</a>\u001b[0m \u001b[39mfrom\u001b[39;00m \u001b[39msklearn\u001b[39;00m\u001b[39m.\u001b[39;00m\u001b[39mcluster\u001b[39;00m \u001b[39mimport\u001b[39;00m KMeans  \n\u001b[0;32m      <a href='vscode-notebook-cell:/c%3A/Users/lenovo/Desktop/home/%E6%9C%9F%E6%9C%AB%E7%BB%BC%E5%90%88%E5%AE%9E%E8%B7%B5%E4%BD%9C%E4%B8%9A.ipynb#W0sZmlsZQ%3D%3D?line=4'>5</a>\u001b[0m \u001b[39mfrom\u001b[39;00m \u001b[39msklearn\u001b[39;00m\u001b[39m.\u001b[39;00m\u001b[39mtree\u001b[39;00m \u001b[39mimport\u001b[39;00m DecisionTreeClassifier  \n",
      "\u001b[1;31mModuleNotFoundError\u001b[0m: No module named 'matplotlib'"
     ]
    }
   ],
   "source": [
    "import pandas as pd  \n",
    "import numpy as np  \n",
    "import matplotlib.pyplot as plt  \n",
    "from sklearn.cluster import KMeans  \n",
    "from sklearn.tree import DecisionTreeClassifier  \n",
    "from sklearn.preprocessing import StandardScaler  \n",
    "from sklearn.decomposition import PCA  \n",
    "  \n",
    "# 1. 数据清理和转化  \n",
    "data = pd.read_spss('demo.sav')  # 假设数据存储在demo.sav文件中  \n",
    "data = data.replace('?', np.nan)  # 处理缺失值  \n",
    "data = data.apply(pd.to_numeric, errors='coerce')  # 将分类变量转换为数值型  \n",
    "data = data.dropna()  # 删除含有缺失值的行  \n",
    "  \n",
    "# 2. 单变量数据分析  \n",
    "data.describe()  # 描述性统计  \n",
    "data.groupby('性别').size().reset_index(name='人数')  # 频数分析  \n",
    "data['年龄'].boxplot()  # 箱线图  \n",
    "  \n",
    "# 3. 双变量数据分析  \n",
    "correlation = data.corr()  # 相关分析  \n",
    "plt.figure(figsize=(10, 8))  \n",
    "for i in range(len(correlation)):  \n",
    "    for j in range(i+1, len(correlation)):  \n",
    "        plt.scatter(data[correlation.columns[i]], data[correlation.columns[j]])  # 散点图  \n",
    "plt.show()  \n",
    "  \n",
    "X = data.drop('课程选择', axis=1)  # 自变量  \n",
    "y = data['课程选择']  # 因变量  \n",
    "X_train, X_test, y_train, y_test = train_test_split(X, y, test_size=0.2, random_state=42)  # 数据集划分  \n",
    "model = DecisionTreeClassifier()  # 回归分析模型  \n",
    "model.fit(X_train, y_train)  # 训练模型  \n",
    "y_pred = model.predict(X_test)  # 预测结果  \n",
    "  \n",
    "# 4. 多变量数据分析  \n",
    "kmeans = KMeans(n_clusters=3)  # 聚类分析，假设将数据分为3类  \n",
    "kmeans.fit(data)  \n",
    "data['聚类结果'] = kmeans.labels_  \n",
    "pca = PCA(n_components=2)  # 主成分分析，假设提取前2个主成分  \n",
    "pca.fit(data)  \n",
    "data['PC1'] = pca.transform(data)[:, 0]  \n",
    "data['PC2'] = pca.transform(data)[:, 1]  "
   ]
  }
 ],
 "metadata": {
  "kernelspec": {
   "display_name": "Python 3",
   "language": "python",
   "name": "python3"
  },
  "language_info": {
   "codemirror_mode": {
    "name": "ipython",
    "version": 3
   },
   "file_extension": ".py",
   "mimetype": "text/x-python",
   "name": "python",
   "nbconvert_exporter": "python",
   "pygments_lexer": "ipython3",
   "version": "3.8.10"
  }
 },
 "nbformat": 4,
 "nbformat_minor": 2
}
