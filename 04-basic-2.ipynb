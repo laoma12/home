{
 "cells": [
  {
   "cell_type": "code",
   "execution_count": 3,
   "metadata": {},
   "outputs": [
    {
     "name": "stdout",
     "output_type": "stream",
     "text": [
      "alice\n"
     ]
    }
   ],
   "source": [
    "# 假设list_of_dicts是上面定义的包含十个元素的字典列表\n",
    "list_of_dicts= [  \n",
    "    {'name': 'Alice', 'student_id': '20230001', 'github_repo': 'alice'},  \n",
    "    {'name': 'Bob', 'student_id': '20230002', 'github_repo': 'bob'},  \n",
    "    {'name': 'Charlie', 'student_id': '20230003', 'github_repo': 'charlie'},  \n",
    "    {'name': 'David', 'student_id': '20230004', 'github_repo': 'david'},  \n",
    "    {'name': 'Eve', 'student_id': '20230005', 'github_repo': 'eve'},  \n",
    "    {'name': 'Frank', 'student_id': '20230006', 'github_repo': 'frank'},  \n",
    "    {'name': 'Grace', 'student_id': '20230007', 'github_repo': 'grace'},  \n",
    "    {'name': 'Henry', 'student_id': '20230008', 'github_repo': 'henry'},  \n",
    "    {'name': 'Isaac', 'student_id': '20230009', 'github_repo': 'isaac'},  \n",
    "    {'name': 'John', 'student_id': '20230010', 'github_repo': 'john'}  \n",
    "]\n",
    "\n",
    "# 指定同学的name\n",
    "target_name = \"Alice\"\n",
    "\n",
    "# 遍历列表，筛选出指定同学的github仓库地址\n",
    "for dict_item in list_of_dicts:\n",
    "    if dict_item[\"name\"] == target_name:\n",
    "        print(dict_item[\"github_repo\"])"
   ]
  },
  {
   "cell_type": "code",
   "execution_count": 4,
   "metadata": {},
   "outputs": [],
   "source": [
    "def get_repo_by_name(dict_item,list_of_dicts):\n",
    "    for dict_item in list_of_dicts:\n",
    "        if dict_item['name'] == dict_item:\n",
    "            print(dict_item[\"github_repo\"])"
   ]
  },
  {
   "cell_type": "code",
   "execution_count": 5,
   "metadata": {},
   "outputs": [],
   "source": [
    "get_repo_by_name('John',list_of_dicts)"
   ]
  }
 ],
 "metadata": {
  "kernelspec": {
   "display_name": "Python 3",
   "language": "python",
   "name": "python3"
  },
  "language_info": {
   "codemirror_mode": {
    "name": "ipython",
    "version": 3
   },
   "file_extension": ".py",
   "mimetype": "text/x-python",
   "name": "python",
   "nbconvert_exporter": "python",
   "pygments_lexer": "ipython3",
   "version": "3.8.10"
  },
  "orig_nbformat": 4
 },
 "nbformat": 4,
 "nbformat_minor": 2
}
